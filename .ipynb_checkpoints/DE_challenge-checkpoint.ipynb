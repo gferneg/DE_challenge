{
 "cells": [
  {
   "cell_type": "markdown",
   "id": "61696357",
   "metadata": {},
   "source": [
    "## Disclaimer\n",
    "No se observa la estructura normal descrita en la documentacion de Tweeter\n",
    "- No se encuentra retweet_status \n",
    "- No se observa screen_name\n",
    "- No se observa presencia de el tag entities"
   ]
  },
  {
   "cell_type": "code",
   "execution_count": 44,
   "id": "dfb7f320",
   "metadata": {},
   "outputs": [],
   "source": [
    "import os\n",
    "import string\n",
    "import pandas as pd\n",
    "\n",
    "import json\n",
    "from collections import Counter\n",
    "import re\n",
    "from glob import glob\n",
    "from datetime import datetime\n",
    "from matplotlib import pyplot as plt\n",
    "from time import gmtime, mktime, strptime\n",
    "import missingno as msng\n",
    "import seaborn as sns\n",
    "from fastavro import writer, reader, schema\n",
    "from rec_avro import to_rec_avro_destructive, from_rec_avro_destructive, rec_avro_schema\n",
    "from pandas.api.types import CategoricalDtype"
   ]
  },
  {
   "cell_type": "code",
   "execution_count": 45,
   "id": "f0f04f87",
   "metadata": {},
   "outputs": [],
   "source": [
    "## Convierte json_obj a avro_file\n",
    "def turntoavro(data):\n",
    "    avro_objects = [to_rec_avro_destructive(data)]\n",
    "    with open('json_to_avro.avro', 'a+b') as f_out:\n",
    "        writer(f_out, schema.parse_schema(rec_avro_schema()), avro_objects)"
   ]
  },
  {
   "cell_type": "markdown",
   "id": "8b0238e5",
   "metadata": {},
   "source": [
    "## Load json file\n",
    " - Como mejora, este proceso podría ir en un ciclo que recorra cada uno de los posibles archivos que contengan tweets"
   ]
  },
  {
   "cell_type": "code",
   "execution_count": 46,
   "id": "30018825",
   "metadata": {},
   "outputs": [],
   "source": [
    "DIR = 'C:/Users/gufernandez/Documents/tweets.json/farmers-protest-tweets-2021-2-4.json'"
   ]
  },
  {
   "cell_type": "markdown",
   "id": "b51d235f",
   "metadata": {},
   "source": [
    "### Etapa exploratoria de los datos\n",
    " - Lectura full json\n",
    " - No se encuentra el tag entientes, desde donde se obtienen los hashtag de un tweet\n",
    " - No se encuentra el tag retweet_status, desde donde se puede inferir si un tweet es retweet o no"
   ]
  },
  {
   "cell_type": "code",
   "execution_count": 47,
   "id": "f60bccff",
   "metadata": {},
   "outputs": [
    {
     "data": {
      "text/html": [
       "<div>\n",
       "<style scoped>\n",
       "    .dataframe tbody tr th:only-of-type {\n",
       "        vertical-align: middle;\n",
       "    }\n",
       "\n",
       "    .dataframe tbody tr th {\n",
       "        vertical-align: top;\n",
       "    }\n",
       "\n",
       "    .dataframe thead th {\n",
       "        text-align: right;\n",
       "    }\n",
       "</style>\n",
       "<table border=\"1\" class=\"dataframe\">\n",
       "  <thead>\n",
       "    <tr style=\"text-align: right;\">\n",
       "      <th></th>\n",
       "      <th>url</th>\n",
       "      <th>date</th>\n",
       "      <th>content</th>\n",
       "      <th>renderedContent</th>\n",
       "      <th>id</th>\n",
       "      <th>user</th>\n",
       "      <th>outlinks</th>\n",
       "      <th>tcooutlinks</th>\n",
       "      <th>replyCount</th>\n",
       "      <th>retweetCount</th>\n",
       "      <th>...</th>\n",
       "      <th>quoteCount</th>\n",
       "      <th>conversationId</th>\n",
       "      <th>lang</th>\n",
       "      <th>source</th>\n",
       "      <th>sourceUrl</th>\n",
       "      <th>sourceLabel</th>\n",
       "      <th>media</th>\n",
       "      <th>retweetedTweet</th>\n",
       "      <th>quotedTweet</th>\n",
       "      <th>mentionedUsers</th>\n",
       "    </tr>\n",
       "  </thead>\n",
       "  <tbody>\n",
       "    <tr>\n",
       "      <th>0</th>\n",
       "      <td>https://twitter.com/ArjunSinghPanam/status/136...</td>\n",
       "      <td>2021-02-24 09:23:35+00:00</td>\n",
       "      <td>The world progresses while the Indian police a...</td>\n",
       "      <td>The world progresses while the Indian police a...</td>\n",
       "      <td>1364506249291784198</td>\n",
       "      <td>{'username': 'ArjunSinghPanam', 'displayname':...</td>\n",
       "      <td>[https://twitter.com/ravisinghka/status/136415...</td>\n",
       "      <td>[https://t.co/es3kn0IQAF]</td>\n",
       "      <td>0</td>\n",
       "      <td>0</td>\n",
       "      <td>...</td>\n",
       "      <td>0</td>\n",
       "      <td>1364506249291784198</td>\n",
       "      <td>en</td>\n",
       "      <td>&lt;a href=\"http://twitter.com/download/iphone\" r...</td>\n",
       "      <td>http://twitter.com/download/iphone</td>\n",
       "      <td>Twitter for iPhone</td>\n",
       "      <td>None</td>\n",
       "      <td>NaN</td>\n",
       "      <td>{'url': 'https://twitter.com/RaviSinghKA/statu...</td>\n",
       "      <td>[{'username': 'narendramodi', 'displayname': '...</td>\n",
       "    </tr>\n",
       "  </tbody>\n",
       "</table>\n",
       "<p>1 rows × 21 columns</p>\n",
       "</div>"
      ],
      "text/plain": [
       "                                                 url  \\\n",
       "0  https://twitter.com/ArjunSinghPanam/status/136...   \n",
       "\n",
       "                       date  \\\n",
       "0 2021-02-24 09:23:35+00:00   \n",
       "\n",
       "                                             content  \\\n",
       "0  The world progresses while the Indian police a...   \n",
       "\n",
       "                                     renderedContent                   id  \\\n",
       "0  The world progresses while the Indian police a...  1364506249291784198   \n",
       "\n",
       "                                                user  \\\n",
       "0  {'username': 'ArjunSinghPanam', 'displayname':...   \n",
       "\n",
       "                                            outlinks  \\\n",
       "0  [https://twitter.com/ravisinghka/status/136415...   \n",
       "\n",
       "                 tcooutlinks  replyCount  retweetCount  ...  quoteCount  \\\n",
       "0  [https://t.co/es3kn0IQAF]           0             0  ...           0   \n",
       "\n",
       "        conversationId  lang  \\\n",
       "0  1364506249291784198    en   \n",
       "\n",
       "                                              source  \\\n",
       "0  <a href=\"http://twitter.com/download/iphone\" r...   \n",
       "\n",
       "                            sourceUrl         sourceLabel media  \\\n",
       "0  http://twitter.com/download/iphone  Twitter for iPhone  None   \n",
       "\n",
       "  retweetedTweet                                        quotedTweet  \\\n",
       "0            NaN  {'url': 'https://twitter.com/RaviSinghKA/statu...   \n",
       "\n",
       "                                      mentionedUsers  \n",
       "0  [{'username': 'narendramodi', 'displayname': '...  \n",
       "\n",
       "[1 rows x 21 columns]"
      ]
     },
     "execution_count": 47,
     "metadata": {},
     "output_type": "execute_result"
    }
   ],
   "source": [
    "tweets = pd.read_json(DIR, lines=True)\n",
    "tweets.head(1)"
   ]
  },
  {
   "cell_type": "code",
   "execution_count": 48,
   "id": "1b3df0a7",
   "metadata": {},
   "outputs": [
    {
     "name": "stdout",
     "output_type": "stream",
     "text": [
      "<class 'pandas.core.frame.DataFrame'>\n",
      "RangeIndex: 117407 entries, 0 to 117406\n",
      "Data columns (total 21 columns):\n",
      " #   Column           Non-Null Count   Dtype              \n",
      "---  ------           --------------   -----              \n",
      " 0   url              117407 non-null  object             \n",
      " 1   date             117407 non-null  datetime64[ns, UTC]\n",
      " 2   content          117407 non-null  object             \n",
      " 3   renderedContent  117407 non-null  object             \n",
      " 4   id               117407 non-null  int64              \n",
      " 5   user             117407 non-null  object             \n",
      " 6   outlinks         117407 non-null  object             \n",
      " 7   tcooutlinks      117407 non-null  object             \n",
      " 8   replyCount       117407 non-null  int64              \n",
      " 9   retweetCount     117407 non-null  int64              \n",
      " 10  likeCount        117407 non-null  int64              \n",
      " 11  quoteCount       117407 non-null  int64              \n",
      " 12  conversationId   117407 non-null  int64              \n",
      " 13  lang             117407 non-null  object             \n",
      " 14  source           117407 non-null  object             \n",
      " 15  sourceUrl        116495 non-null  object             \n",
      " 16  sourceLabel      116495 non-null  object             \n",
      " 17  media            28109 non-null   object             \n",
      " 18  retweetedTweet   0 non-null       float64            \n",
      " 19  quotedTweet      41436 non-null   object             \n",
      " 20  mentionedUsers   38034 non-null   object             \n",
      "dtypes: datetime64[ns, UTC](1), float64(1), int64(6), object(13)\n",
      "memory usage: 18.8+ MB\n"
     ]
    }
   ],
   "source": [
    "tweets.info()"
   ]
  },
  {
   "cell_type": "code",
   "execution_count": 49,
   "id": "409cd4b3",
   "metadata": {},
   "outputs": [
    {
     "data": {
      "text/plain": [
       "<AxesSubplot:>"
      ]
     },
     "execution_count": 49,
     "metadata": {},
     "output_type": "execute_result"
    },
    {
     "data": {
      "image/png": "[encoded data removed]",
      "text/plain": [
       "<Figure size 1800x720 with 2 Axes>"
      ]
     },
     "metadata": {},
     "output_type": "display_data"
    }
   ],
   "source": [
    "msng.matrix(tweets)"
   ]
  },
  {
   "cell_type": "markdown",
   "id": "bf4808bc",
   "metadata": {},
   "source": [
    "## Incorporación de columnas adicionales para análisis\n",
    "- Se agregaron las columnas:\n",
    "    * usaername: usuario que realizó el tweet\n",
    "    * created: fecha de creación del tweet. Se debe mantener el formato completo ya que tweet pueden tener segundo o menos de diferencia unos de otros\n",
    "    * hashtag: se generó una columna con los hashtags que se obtuvieron desde el tag 'content' mediante un loop"
   ]
  },
  {
   "cell_type": "code",
   "execution_count": 50,
   "id": "0605e0e4",
   "metadata": {},
   "outputs": [],
   "source": [
    "# Agrego columnas extraidas desde el user \n",
    "tweets['username'] = pd.DataFrame(tweets['user'].tolist(),columns = ['username'])\n",
    "tweets['created'] = pd.DataFrame(tweets['user'].tolist(),columns = ['created'])\n",
    "tweets['day_name'] = pd.to_datetime(tweets['created'], dayfirst=True).dt.day_name()\n",
    "tweets['day'] = pd.to_datetime(tweets['created'], dayfirst=True).dt.day\n",
    "tweets['year'] = pd.to_datetime(tweets['created'], dayfirst=True).dt.year\n",
    "tweets['month'] = pd.to_datetime(tweets['created'], dayfirst=True).dt.month\n",
    "\n",
    "hashtag = []\n",
    "for content in tweets['content'].to_list():\n",
    "    \n",
    "    content = str(content).lower()\n",
    "    hashtag.append([x for x in re.split(r',|\\n| ', str(content)) if x.startswith('#')])\n",
    "    \n",
    "tweets['hashtags'] = hashtag\n",
    "\n",
    "# Hago drop de la columna user ya que no se requiere mas información que 'username' y 'created'\n",
    "tweets = tweets.drop ('user',axis=1)"
   ]
  },
  {
   "cell_type": "code",
   "execution_count": 51,
   "id": "24c595c5",
   "metadata": {},
   "outputs": [
    {
     "name": "stderr",
     "output_type": "stream",
     "text": [
      "C:\\Users\\gufernandez\\anaconda3\\lib\\site-packages\\seaborn\\_decorators.py:36: FutureWarning: Pass the following variables as keyword args: x, y. From version 0.12, the only valid positional argument will be `data`, and passing other arguments without an explicit keyword will result in an error or misinterpretation.\n",
      "  warnings.warn(\n"
     ]
    },
    {
     "data": {
      "image/png": "[encoded data removed]",
      "text/plain": [
       "<Figure size 720x432 with 1 Axes>"
      ]
     },
     "metadata": {},
     "output_type": "display_data"
    }
   ],
   "source": [
    "user_tweet_count = tweets['username'].value_counts().head(30)\n",
    "plt.figure(figsize = (10,6))\n",
    "sns.set(style=\"darkgrid\")\n",
    "sns.barplot(user_tweet_count.index, user_tweet_count.values, alpha=0.9)\n",
    "plt.title('Cantidad de Tweets por usuario')\n",
    "plt.ylabel('Número de Tweet', fontsize=12)\n",
    "plt.xlabel('user', fontsize=12)\n",
    "plt.xticks(rotation=90)\n",
    "plt.show()"
   ]
  },
  {
   "cell_type": "code",
   "execution_count": 52,
   "id": "8bc861d8",
   "metadata": {},
   "outputs": [
    {
     "data": {
      "text/plain": [
       "Text(0, 0.5, 'Número de Tweets')"
      ]
     },
     "execution_count": 52,
     "metadata": {},
     "output_type": "execute_result"
    },
    {
     "data": {
      "image/png": "[encoded data removed]",
      "text/plain": [
       "<Figure size 720x360 with 1 Axes>"
      ]
     },
     "metadata": {},
     "output_type": "display_data"
    }
   ],
   "source": [
    "cats1 = [ 'Monday', 'Tuesday', 'Wednesday', 'Thursday', 'Friday', 'Saturday', 'Sunday']\n",
    "ax = cat_type = pd.Categorical(tweets['day_name'],categories=cats1, ordered=True).value_counts().plot(kind='bar', grid=False, figsize=(10,5),title='Cantidad de Tweets por dia de la semana')\n",
    "ax.set_xlabel(\"día\")\n",
    "ax.set_ylabel(\"Número de Tweets\")"
   ]
  },
  {
   "cell_type": "markdown",
   "id": "36bc028e",
   "metadata": {},
   "source": [
    "### 1 .- Obtenga cuales fueron los 10 tweets más retweeted y a que usuarios pertenecen esos tweets.\n",
    "    - Se considera el tag 'content' como el tweet en sí para el despliegue de la solución\n",
    "    - Utilizando la columna retweetCount como referencia se obtuvo el top 10 de tweets mas retweetiados"
   ]
  },
  {
   "cell_type": "code",
   "execution_count": 20,
   "id": "5ae4b940",
   "metadata": {},
   "outputs": [],
   "source": [
    "top_ten_retweet_user = tweets[['username','content','retweetCount']].sort_values(by='retweetCount', ascending=False)"
   ]
  },
  {
   "cell_type": "code",
   "execution_count": 21,
   "id": "c3531da8",
   "metadata": {},
   "outputs": [
    {
     "data": {
      "text/html": [
       "<div>\n",
       "<style scoped>\n",
       "    .dataframe tbody tr th:only-of-type {\n",
       "        vertical-align: middle;\n",
       "    }\n",
       "\n",
       "    .dataframe tbody tr th {\n",
       "        vertical-align: top;\n",
       "    }\n",
       "\n",
       "    .dataframe thead th {\n",
       "        text-align: right;\n",
       "    }\n",
       "</style>\n",
       "<table border=\"1\" class=\"dataframe\">\n",
       "  <thead>\n",
       "    <tr style=\"text-align: right;\">\n",
       "      <th></th>\n",
       "      <th>username</th>\n",
       "      <th>content</th>\n",
       "      <th>retweetCount</th>\n",
       "    </tr>\n",
       "  </thead>\n",
       "  <tbody>\n",
       "    <tr>\n",
       "      <th>111329</th>\n",
       "      <td>RakeshTikaitBKU</td>\n",
       "      <td>मध्यप्रदेश में निजी व्यापारी 200 करोड़ का धान ...</td>\n",
       "      <td>7723</td>\n",
       "    </tr>\n",
       "    <tr>\n",
       "      <th>7645</th>\n",
       "      <td>dhruv_rathee</td>\n",
       "      <td>There's a #FarmersProtest happening in Germany...</td>\n",
       "      <td>6164</td>\n",
       "    </tr>\n",
       "    <tr>\n",
       "      <th>89780</th>\n",
       "      <td>rupikaur_</td>\n",
       "      <td>disha ravi, a 21-year-old climate activist, ha...</td>\n",
       "      <td>4673</td>\n",
       "    </tr>\n",
       "    <tr>\n",
       "      <th>88911</th>\n",
       "      <td>amaanbali</td>\n",
       "      <td>Disha Ravi broke down in court room and told j...</td>\n",
       "      <td>3742</td>\n",
       "    </tr>\n",
       "    <tr>\n",
       "      <th>111556</th>\n",
       "      <td>jedijasmin_</td>\n",
       "      <td>Farmers are so sweet. Y’all have to see this @...</td>\n",
       "      <td>3332</td>\n",
       "    </tr>\n",
       "    <tr>\n",
       "      <th>64492</th>\n",
       "      <td>rupikaur_</td>\n",
       "      <td>india is targeting young women to silence diss...</td>\n",
       "      <td>3230</td>\n",
       "    </tr>\n",
       "    <tr>\n",
       "      <th>108072</th>\n",
       "      <td>RaviSinghKA</td>\n",
       "      <td>Bollywood has betrayed Panjab &amp;amp; the farmer...</td>\n",
       "      <td>3182</td>\n",
       "    </tr>\n",
       "    <tr>\n",
       "      <th>60721</th>\n",
       "      <td>sherryontopp</td>\n",
       "      <td>लहरों को ख़ामोश देख कर ये ना समझना कि समंदर मे...</td>\n",
       "      <td>3057</td>\n",
       "    </tr>\n",
       "    <tr>\n",
       "      <th>29510</th>\n",
       "      <td>sherryontopp</td>\n",
       "      <td>हाँ मैं जानता हूँ कि मैं शायर नहीं, और ज़ुल्म ...</td>\n",
       "      <td>3040</td>\n",
       "    </tr>\n",
       "    <tr>\n",
       "      <th>24160</th>\n",
       "      <td>sherryontopp</td>\n",
       "      <td>कलियुग  है साहब , यहाँ झूठे को स्वीकार किया जा...</td>\n",
       "      <td>2622</td>\n",
       "    </tr>\n",
       "  </tbody>\n",
       "</table>\n",
       "</div>"
      ],
      "text/plain": [
       "               username                                            content  \\\n",
       "111329  RakeshTikaitBKU  मध्यप्रदेश में निजी व्यापारी 200 करोड़ का धान ...   \n",
       "7645       dhruv_rathee  There's a #FarmersProtest happening in Germany...   \n",
       "89780         rupikaur_  disha ravi, a 21-year-old climate activist, ha...   \n",
       "88911         amaanbali  Disha Ravi broke down in court room and told j...   \n",
       "111556      jedijasmin_  Farmers are so sweet. Y’all have to see this @...   \n",
       "64492         rupikaur_  india is targeting young women to silence diss...   \n",
       "108072      RaviSinghKA  Bollywood has betrayed Panjab &amp; the farmer...   \n",
       "60721      sherryontopp  लहरों को ख़ामोश देख कर ये ना समझना कि समंदर मे...   \n",
       "29510      sherryontopp  हाँ मैं जानता हूँ कि मैं शायर नहीं, और ज़ुल्म ...   \n",
       "24160      sherryontopp  कलियुग  है साहब , यहाँ झूठे को स्वीकार किया जा...   \n",
       "\n",
       "        retweetCount  \n",
       "111329          7723  \n",
       "7645            6164  \n",
       "89780           4673  \n",
       "88911           3742  \n",
       "111556          3332  \n",
       "64492           3230  \n",
       "108072          3182  \n",
       "60721           3057  \n",
       "29510           3040  \n",
       "24160           2622  "
      ]
     },
     "execution_count": 21,
     "metadata": {},
     "output_type": "execute_result"
    }
   ],
   "source": [
    "# Resultado esperado para objetivo_1\n",
    "top_ten_retweet_user.iloc[0:10]"
   ]
  },
  {
   "cell_type": "markdown",
   "id": "d435823c",
   "metadata": {},
   "source": [
    "### 2.-  Los top 10 users en función a la cantidad de tweets que emitieron (no considerar retweets).\n",
    "    - Tras la exploración realizada nos encontramos que el tag 'retweetedTweet' no contiene valores validos:\n",
    "        *retweetedTweet   0 non-null por lo que se asume como parte de la solución la ausencia de un tag verificador de retweets"
   ]
  },
  {
   "cell_type": "code",
   "execution_count": 22,
   "id": "9e119fbf",
   "metadata": {},
   "outputs": [
    {
     "data": {
      "text/html": [
       "<div>\n",
       "<style scoped>\n",
       "    .dataframe tbody tr th:only-of-type {\n",
       "        vertical-align: middle;\n",
       "    }\n",
       "\n",
       "    .dataframe tbody tr th {\n",
       "        vertical-align: top;\n",
       "    }\n",
       "\n",
       "    .dataframe thead th {\n",
       "        text-align: right;\n",
       "    }\n",
       "</style>\n",
       "<table border=\"1\" class=\"dataframe\">\n",
       "  <thead>\n",
       "    <tr style=\"text-align: right;\">\n",
       "      <th></th>\n",
       "      <th>username</th>\n",
       "      <th>Counted_tweets</th>\n",
       "    </tr>\n",
       "  </thead>\n",
       "  <tbody>\n",
       "    <tr>\n",
       "      <th>0</th>\n",
       "      <td>jot__b</td>\n",
       "      <td>1019</td>\n",
       "    </tr>\n",
       "    <tr>\n",
       "      <th>1</th>\n",
       "      <td>rebelpacifist</td>\n",
       "      <td>850</td>\n",
       "    </tr>\n",
       "    <tr>\n",
       "      <th>2</th>\n",
       "      <td>MaanDee08215437</td>\n",
       "      <td>830</td>\n",
       "    </tr>\n",
       "    <tr>\n",
       "      <th>3</th>\n",
       "      <td>Gurpreetd86</td>\n",
       "      <td>636</td>\n",
       "    </tr>\n",
       "    <tr>\n",
       "      <th>4</th>\n",
       "      <td>GurmVicky</td>\n",
       "      <td>597</td>\n",
       "    </tr>\n",
       "    <tr>\n",
       "      <th>5</th>\n",
       "      <td>shells_n_petals</td>\n",
       "      <td>576</td>\n",
       "    </tr>\n",
       "    <tr>\n",
       "      <th>6</th>\n",
       "      <td>preetysaini321</td>\n",
       "      <td>573</td>\n",
       "    </tr>\n",
       "    <tr>\n",
       "      <th>7</th>\n",
       "      <td>ish_kayy</td>\n",
       "      <td>515</td>\n",
       "    </tr>\n",
       "    <tr>\n",
       "      <th>8</th>\n",
       "      <td>KaurDosanjh1979</td>\n",
       "      <td>512</td>\n",
       "    </tr>\n",
       "    <tr>\n",
       "      <th>9</th>\n",
       "      <td>DigitalKisanBot</td>\n",
       "      <td>490</td>\n",
       "    </tr>\n",
       "  </tbody>\n",
       "</table>\n",
       "</div>"
      ],
      "text/plain": [
       "          username  Counted_tweets\n",
       "0           jot__b            1019\n",
       "1    rebelpacifist             850\n",
       "2  MaanDee08215437             830\n",
       "3      Gurpreetd86             636\n",
       "4        GurmVicky             597\n",
       "5  shells_n_petals             576\n",
       "6   preetysaini321             573\n",
       "7         ish_kayy             515\n",
       "8  KaurDosanjh1979             512\n",
       "9  DigitalKisanBot             490"
      ]
     },
     "execution_count": 22,
     "metadata": {},
     "output_type": "execute_result"
    }
   ],
   "source": [
    "# genero el listado de 10 usuarios en funcion de los tweets emitidos. como value_counts esta ordenado solo extraigo los 10 primeros valores\n",
    "top_ten_tweet_user = tweets[['username']].value_counts().reset_index().rename(columns={0: 'Counted_tweets'})\n",
    "top_ten_tweet_user.iloc[0:10]"
   ]
  },
  {
   "cell_type": "markdown",
   "id": "a0c533a4",
   "metadata": {},
   "source": [
    "## 3.- Obtenga los 10 días donde hay más tweets, muestre el día, la cantidad de tweets y todos los hastags que se usaron ese día\n",
    "    - Se consideró un día valido en base a su etructura (año + mes + dia) ya que no se debe considerar la diferencia de horario para un mismo día. Por ende se realizó una transformación de la fecha,\n",
    "    - Este punto consideró la utilización de un flujo loop y no otra opción, dado que solo son 10 dias los que se desean revisar. Como punto a mejorar es posible optimizar esta función para no recurrir a loop."
   ]
  },
  {
   "cell_type": "code",
   "execution_count": 23,
   "id": "9fbb8444",
   "metadata": {},
   "outputs": [],
   "source": [
    "# Transformación de la fecha\n",
    "tweets['created'] = tweets['created'].str.slice(0, 10)\n",
    "\n",
    "# Extraigo el listado de dias que presentan la mayor cantidad de tweets\n",
    "top_ten_tweet_by_day = tweets['created'].value_counts().reset_index().rename(columns={'index': 'date','created': 'tweet_count' })\n",
    "top_ten_tweet_by_day = top_ten_tweet_by_day.iloc[0:10]"
   ]
  },
  {
   "cell_type": "code",
   "execution_count": 24,
   "id": "cf3d3ebc",
   "metadata": {},
   "outputs": [
    {
     "data": {
      "text/html": [
       "<div>\n",
       "<style scoped>\n",
       "    .dataframe tbody tr th:only-of-type {\n",
       "        vertical-align: middle;\n",
       "    }\n",
       "\n",
       "    .dataframe tbody tr th {\n",
       "        vertical-align: top;\n",
       "    }\n",
       "\n",
       "    .dataframe thead th {\n",
       "        text-align: right;\n",
       "    }\n",
       "</style>\n",
       "<table border=\"1\" class=\"dataframe\">\n",
       "  <thead>\n",
       "    <tr style=\"text-align: right;\">\n",
       "      <th></th>\n",
       "      <th>date</th>\n",
       "      <th>tweet_count</th>\n",
       "    </tr>\n",
       "  </thead>\n",
       "  <tbody>\n",
       "    <tr>\n",
       "      <th>0</th>\n",
       "      <td>2020-11-29</td>\n",
       "      <td>3696</td>\n",
       "    </tr>\n",
       "    <tr>\n",
       "      <th>1</th>\n",
       "      <td>2020-12-01</td>\n",
       "      <td>3326</td>\n",
       "    </tr>\n",
       "    <tr>\n",
       "      <th>2</th>\n",
       "      <td>2020-12-03</td>\n",
       "      <td>2744</td>\n",
       "    </tr>\n",
       "    <tr>\n",
       "      <th>3</th>\n",
       "      <td>2020-12-02</td>\n",
       "      <td>2436</td>\n",
       "    </tr>\n",
       "    <tr>\n",
       "      <th>4</th>\n",
       "      <td>2020-12-04</td>\n",
       "      <td>2185</td>\n",
       "    </tr>\n",
       "    <tr>\n",
       "      <th>5</th>\n",
       "      <td>2020-11-30</td>\n",
       "      <td>2099</td>\n",
       "    </tr>\n",
       "    <tr>\n",
       "      <th>6</th>\n",
       "      <td>2021-02-03</td>\n",
       "      <td>1486</td>\n",
       "    </tr>\n",
       "    <tr>\n",
       "      <th>7</th>\n",
       "      <td>2021-02-04</td>\n",
       "      <td>1244</td>\n",
       "    </tr>\n",
       "    <tr>\n",
       "      <th>8</th>\n",
       "      <td>2021-01-30</td>\n",
       "      <td>1209</td>\n",
       "    </tr>\n",
       "    <tr>\n",
       "      <th>9</th>\n",
       "      <td>2021-01-27</td>\n",
       "      <td>1173</td>\n",
       "    </tr>\n",
       "  </tbody>\n",
       "</table>\n",
       "</div>"
      ],
      "text/plain": [
       "         date  tweet_count\n",
       "0  2020-11-29         3696\n",
       "1  2020-12-01         3326\n",
       "2  2020-12-03         2744\n",
       "3  2020-12-02         2436\n",
       "4  2020-12-04         2185\n",
       "5  2020-11-30         2099\n",
       "6  2021-02-03         1486\n",
       "7  2021-02-04         1244\n",
       "8  2021-01-30         1209\n",
       "9  2021-01-27         1173"
      ]
     },
     "execution_count": 24,
     "metadata": {},
     "output_type": "execute_result"
    }
   ],
   "source": [
    "top_ten_tweet_by_day"
   ]
  },
  {
   "cell_type": "markdown",
   "id": "b656c60a",
   "metadata": {},
   "source": [
    "## 4.- Los top 10 hashtags más usados.\n",
    "- Dado que son los primeros 10 elementos se utilizó un ciclo para presentar el resultado\n",
    "- Se utilizò el paquete counter para realizar la estimacion de frecuencia de ocurrencia para los hashtags"
   ]
  },
  {
   "cell_type": "code",
   "execution_count": 25,
   "id": "79a3acaf",
   "metadata": {},
   "outputs": [
    {
     "name": "stdout",
     "output_type": "stream",
     "text": [
      "#farmersprotest : 117010\n",
      "#releasedetainedfarmers : 5960\n",
      "#farmersmakeindia : 5300\n",
      "#mahapanchayatrevolution : 4840\n",
      "#repealonlywayahead : 4599\n",
      "#indiabeingsilenced : 4476\n",
      "#farmersprotests : 3730\n",
      "#standwithfarmers : 3649\n",
      "#pagdi_sambhal_jatta : 3537\n",
      "#railrokoforfarmers : 3091\n"
     ]
    }
   ],
   "source": [
    "hashtag_words = []\n",
    "sum_elements = 0\n",
    "\n",
    "for hashtag_list in tweets['hashtags']:\n",
    "    hashtag_words +=(hashtag_list)   \n",
    "\n",
    "# genero la lista del top 10 de hashtags mas usados\n",
    "c = Counter(hashtag_words)\n",
    "\n",
    "for i in c.most_common(10):\n",
    "    print( \"% s : % s\" % (i), end =\"\\n\")"
   ]
  },
  {
   "cell_type": "markdown",
   "id": "3124ff4c",
   "metadata": {},
   "source": [
    "## 5.- Los top 10 users más influyentes en función de lo retweeted de sus tweets.\n",
    "  - Se agrupo por el nombre de usuario y sumo la cantidad de retweets para cada uno de esos nombres\n",
    "  - Recordar que el tag 'retweetedTweet' no está presente, que permite saber si un tweet es retweet o no y así omitirlos en este cálculo"
   ]
  },
  {
   "cell_type": "code",
   "execution_count": 26,
   "id": "cd383a14",
   "metadata": {},
   "outputs": [],
   "source": [
    "# Obtengo como dataframe el listado de 10 usuarios mas influyentes\n",
    "sumOfretweetCount = tweets.groupby(by=['username'], as_index=False)['retweetCount'].sum().sort_values(by=['retweetCount'], ascending=False)"
   ]
  },
  {
   "cell_type": "code",
   "execution_count": 27,
   "id": "88e4c4be",
   "metadata": {},
   "outputs": [
    {
     "data": {
      "text/html": [
       "<div>\n",
       "<style scoped>\n",
       "    .dataframe tbody tr th:only-of-type {\n",
       "        vertical-align: middle;\n",
       "    }\n",
       "\n",
       "    .dataframe tbody tr th {\n",
       "        vertical-align: top;\n",
       "    }\n",
       "\n",
       "    .dataframe thead th {\n",
       "        text-align: right;\n",
       "    }\n",
       "</style>\n",
       "<table border=\"1\" class=\"dataframe\">\n",
       "  <thead>\n",
       "    <tr style=\"text-align: right;\">\n",
       "      <th></th>\n",
       "      <th>username</th>\n",
       "      <th>retweetCount</th>\n",
       "    </tr>\n",
       "  </thead>\n",
       "  <tbody>\n",
       "    <tr>\n",
       "      <th>16605</th>\n",
       "      <td>amaanbali</td>\n",
       "      <td>26354</td>\n",
       "    </tr>\n",
       "    <tr>\n",
       "      <th>24073</th>\n",
       "      <td>saahilmenghani</td>\n",
       "      <td>23288</td>\n",
       "    </tr>\n",
       "    <tr>\n",
       "      <th>12164</th>\n",
       "      <td>RaviSinghKA</td>\n",
       "      <td>22974</td>\n",
       "    </tr>\n",
       "    <tr>\n",
       "      <th>24724</th>\n",
       "      <td>sherryontopp</td>\n",
       "      <td>19175</td>\n",
       "    </tr>\n",
       "    <tr>\n",
       "      <th>11837</th>\n",
       "      <td>RakeshTikaitBKU</td>\n",
       "      <td>12001</td>\n",
       "    </tr>\n",
       "    <tr>\n",
       "      <th>24034</th>\n",
       "      <td>rupikaur_</td>\n",
       "      <td>11420</td>\n",
       "    </tr>\n",
       "    <tr>\n",
       "      <th>22538</th>\n",
       "      <td>news24tvchannel</td>\n",
       "      <td>10960</td>\n",
       "    </tr>\n",
       "    <tr>\n",
       "      <th>19566</th>\n",
       "      <td>iMani_KaurRai</td>\n",
       "      <td>10636</td>\n",
       "    </tr>\n",
       "    <tr>\n",
       "      <th>9532</th>\n",
       "      <td>Monica_Gill1</td>\n",
       "      <td>8593</td>\n",
       "    </tr>\n",
       "    <tr>\n",
       "      <th>17502</th>\n",
       "      <td>bhupenderc19</td>\n",
       "      <td>7360</td>\n",
       "    </tr>\n",
       "  </tbody>\n",
       "</table>\n",
       "</div>"
      ],
      "text/plain": [
       "              username  retweetCount\n",
       "16605        amaanbali         26354\n",
       "24073   saahilmenghani         23288\n",
       "12164      RaviSinghKA         22974\n",
       "24724     sherryontopp         19175\n",
       "11837  RakeshTikaitBKU         12001\n",
       "24034        rupikaur_         11420\n",
       "22538  news24tvchannel         10960\n",
       "19566    iMani_KaurRai         10636\n",
       "9532      Monica_Gill1          8593\n",
       "17502     bhupenderc19          7360"
      ]
     },
     "execution_count": 27,
     "metadata": {},
     "output_type": "execute_result"
    }
   ],
   "source": [
    "sumOfretweetCount.iloc[0:10]"
   ]
  },
  {
   "cell_type": "markdown",
   "id": "de0614c9",
   "metadata": {},
   "source": [
    "## 6.- Guarde en un archivo avro todos los tweets para el hashtag #ReleaseDetainedFarmers entre el 2021-02-12 y 2021-02-24\n",
    "    - Se almacenara como 'tweet' toda la información existente para dicho tweet. Lo que viene siendo la data cruda de este tweet"
   ]
  },
  {
   "cell_type": "code",
   "execution_count": 28,
   "id": "537fcf45",
   "metadata": {},
   "outputs": [
    {
     "name": "stdout",
     "output_type": "stream",
     "text": [
      "Requirement already satisfied: avro in c:\\users\\gufernandez\\anaconda3\\lib\\site-packages (1.11.0)\n",
      "Requirement already satisfied: rec-avro in c:\\users\\gufernandez\\anaconda3\\lib\\site-packages (0.0.4)\n",
      "Requirement already satisfied: fastavro in c:\\users\\gufernandez\\anaconda3\\lib\\site-packages (1.4.10)\n"
     ]
    }
   ],
   "source": [
    "## Paquetes requeridos\n",
    "!pip install avro\n",
    "!pip3 install rec-avro\n",
    "!pip install fastavro"
   ]
  },
  {
   "cell_type": "code",
   "execution_count": 29,
   "id": "7893debc",
   "metadata": {},
   "outputs": [],
   "source": [
    "# Obtengo el subser de tweets que se encuentran entre el '2021-02-12' y '2021-02-24'\n",
    "subset_tweets_on_dates = tweets[(pd.to_datetime(tweets['created'])>=datetime.strptime('2021-02-12','%Y-%m-%d')) & (pd.to_datetime(tweets['created'])<=datetime.strptime('2021-02-24','%Y-%m-%d'))]"
   ]
  },
  {
   "cell_type": "markdown",
   "id": "3a605c64",
   "metadata": {},
   "source": [
    "### Valido que el tag #releasedetainedfarmers se encuentre entre los tweet del subset"
   ]
  },
  {
   "cell_type": "code",
   "execution_count": 31,
   "id": "f2a475e0",
   "metadata": {},
   "outputs": [
    {
     "name": "stdout",
     "output_type": "stream",
     "text": [
      "#farmersprotest : 981\n",
      "#farmersmakeindia : 68\n",
      "#india : 56\n",
      "#kisaan : 52\n",
      "#sfj : 51\n",
      "#bengal : 51\n",
      "#maharashtra : 51\n",
      "#modi_rojgar_do : 47\n",
      "#khalistan : 47\n",
      "#pagdi_sambhal_jatta : 43\n",
      "#farmersprotests : 34\n",
      "#modi_rojgaar_दो : 30\n",
      "#msplawforallcrops : 30\n",
      "#farmers : 28\n",
      "#volunteer4farmr : 28\n",
      "#farmerschallenge : 26\n",
      "#disharavi : 23\n",
      "#releasedetainedfarmers : 23\n",
      "#nofarmersnofood : 22\n",
      "#istandwithfarmers : 21\n"
     ]
    }
   ],
   "source": [
    "hashtag_words = []\n",
    "sum_elements = 0\n",
    "\n",
    "for hashtag_list in subset_tweets_on_dates['hashtags']:\n",
    "    hashtag_words +=(hashtag_list)   \n",
    "\n",
    "# genero la lista del top 10 de hashtags mas usados\n",
    "c = Counter(hashtag_words)\n",
    "\n",
    "for i in c.most_common(20):\n",
    "    print( \"% s : % s\" % (i), end =\"\\n\")"
   ]
  },
  {
   "cell_type": "markdown",
   "id": "dd6bf94a",
   "metadata": {},
   "source": [
    "### Genero el subset con los tweet que tienen el tag especificado y el rango de fecha correcto"
   ]
  },
  {
   "cell_type": "code",
   "execution_count": 32,
   "id": "beb8ff37",
   "metadata": {},
   "outputs": [],
   "source": [
    "index_list = []\n",
    "for hashtag_list in subset_tweets_on_dates['hashtags']:\n",
    "    if '#releasedetainedfarmers' in hashtag_list:\n",
    "        index_list.append(True)\n",
    "    else:\n",
    "        index_list.append(False)"
   ]
  },
  {
   "cell_type": "code",
   "execution_count": 33,
   "id": "937188f3",
   "metadata": {},
   "outputs": [],
   "source": [
    "tweets = subset_tweets_on_dates.loc[index_list]"
   ]
  },
  {
   "cell_type": "markdown",
   "id": "8d6dd054",
   "metadata": {},
   "source": [
    "### Convierto el dataframe subset con el hashtag #releasedetainedfarmers a formato avro\n",
    "    - Se requiere dropear algunas columnas que no tienen el formato json necesario"
   ]
  },
  {
   "cell_type": "code",
   "execution_count": 34,
   "id": "b1eb8177",
   "metadata": {},
   "outputs": [],
   "source": [
    "tweets = tweets.drop ('username',axis=1)\n",
    "tweets = tweets.drop ('created',axis=1)\n",
    "tweets = tweets.drop ('day_name',axis=1)\n",
    "tweets = tweets.drop ('day',axis=1)\n",
    "tweets = tweets.drop ('year',axis=1)\n",
    "tweets = tweets.drop ('month',axis=1)\n",
    "tweets = tweets.drop ('hashtags',axis=1)"
   ]
  },
  {
   "cell_type": "code",
   "execution_count": 41,
   "id": "9d748ae9",
   "metadata": {},
   "outputs": [],
   "source": [
    "### Exportar el subset a jsonn\n",
    "tweets.to_json('subset_tweets_on_dates.json')\n",
    "tweets_subset_on_dates = pd.read_json('subset_tweets_on_dates.json', lines=True)"
   ]
  },
  {
   "cell_type": "markdown",
   "id": "584b94a5",
   "metadata": {},
   "source": [
    "### Genero el abro file utilizando el json exportado"
   ]
  },
  {
   "cell_type": "code",
   "execution_count": 42,
   "id": "3d97518c",
   "metadata": {},
   "outputs": [],
   "source": [
    "try:\n",
    "    turntoavro(tweets_subset_on_dates)\n",
    "except:\n",
    "    print(\"No existen tweets en el intervalo indicado para ese hashtag\\n\")"
   ]
  }
 ],
 "metadata": {
  "kernelspec": {
   "display_name": "Python 3 (ipykernel)",
   "language": "python",
   "name": "python3"
  },
  "language_info": {
   "codemirror_mode": {
    "name": "ipython",
    "version": 3
   },
   "file_extension": ".py",
   "mimetype": "text/x-python",
   "name": "python",
   "nbconvert_exporter": "python",
   "pygments_lexer": "ipython3",
   "version": "3.9.7"
  }
 },
 "nbformat": 4,
 "nbformat_minor": 5
}
