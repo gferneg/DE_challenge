{
 "cells": [
  {
   "cell_type": "code",
   "execution_count": 279,
   "id": "dfb7f320",
   "metadata": {},
   "outputs": [],
   "source": [
    "import os\n",
    "import string\n",
    "import pandas as pd\n",
    "\n",
    "import json\n",
    "from glob import glob\n",
    "from datetime import datetime\n",
    "from matplotlib import pyplot as plt\n",
    "from time import gmtime, mktime, strptime\n",
    "import warnings\n",
    "warnings.filterwarnings('ignore')"
   ]
  },
  {
   "cell_type": "markdown",
   "id": "83c8108f",
   "metadata": {},
   "source": [
    "## Load json file"
   ]
  },
  {
   "cell_type": "code",
   "execution_count": 280,
   "id": "30018825",
   "metadata": {},
   "outputs": [],
   "source": [
    "DIR = 'C:/Users/gufernandez/Documents/tweets.json/farmers-protest-tweets-2021-2-4.json'\n",
    "#lfiles = glob(DIR + \"farmers-protest-tweets-2021-2-4.json\")"
   ]
  },
  {
   "cell_type": "code",
   "execution_count": 281,
   "id": "84a15aa7",
   "metadata": {},
   "outputs": [],
   "source": [
    "tweets_data_path = DIR"
   ]
  },
  {
   "cell_type": "code",
   "execution_count": 282,
   "id": "3e0b01d8",
   "metadata": {},
   "outputs": [],
   "source": [
    "tweets_data = []\n",
    "tweets_file = open(tweets_data_path, \"r\")"
   ]
  },
  {
   "cell_type": "markdown",
   "id": "e3927dc4",
   "metadata": {},
   "source": [
    "### read line by line"
   ]
  },
  {
   "cell_type": "code",
   "execution_count": 283,
   "id": "7ad00da5",
   "metadata": {},
   "outputs": [],
   "source": [
    "for line in tweets_file:\n",
    "    try:\n",
    "        tweet = json.loads(line)\n",
    "        tweets_data.append(tweet)\n",
    "    except:\n",
    "        continue"
   ]
  },
  {
   "cell_type": "code",
   "execution_count": 284,
   "id": "5bcc3650",
   "metadata": {},
   "outputs": [
    {
     "name": "stdout",
     "output_type": "stream",
     "text": [
      "117407\n"
     ]
    }
   ],
   "source": [
    "# Elimina posibles tweet sin user\n",
    "for tweet in tweets_data:\n",
    "    try:\n",
    "        user = tweet['user']\n",
    "    except:\n",
    "        tweets_data.remove(tweet)\n",
    " \n",
    "print(len(tweets_data))"
   ]
  },
  {
   "cell_type": "markdown",
   "id": "81cf174b",
   "metadata": {},
   "source": [
    "### Extraer info de importancia para la solución"
   ]
  },
  {
   "cell_type": "code",
   "execution_count": 285,
   "id": "f02d0c5e",
   "metadata": {},
   "outputs": [],
   "source": [
    "rows_list = []\n",
    "for tweet in tweets_data:\n",
    "    #print(tweet)\n",
    "    author = \"\"\n",
    "    rtauthor = \"\"\n",
    "    \n",
    "    ## Extrae la información de usuario autor y el retweet, si es un retweet\n",
    "    try:\n",
    "        \n",
    "        author = tweet['user']['username']\n",
    "        rtauthor = tweet['retweeted_status']['user']['username']\n",
    "        \n",
    "    except:\n",
    "\n",
    "        ## Si no es un retweet obtiene la información del usuario autor solamente\n",
    "        try:\n",
    "            author = tweet['user']['username']\n",
    "        except:\n",
    "            continue\n",
    "                                                       \n",
    "    create_date = datetime.strptime(str(tweet['user']['created'])[0:10], '%Y-%M-%d').date()\n",
    "    followers = tweet['user']['followersCount']\n",
    "    replyCount = tweet['replyCount']\n",
    "    retweetedTweet = tweet['retweetedTweet']\n",
    "    retweetCount = tweet['retweetCount']\n",
    "    \n",
    "    \n",
    "    dict1 = {}\n",
    "    dict1.update({'author': author, 'create_date': create_date, 'replyCount': replyCount, 'retweetedTweet': retweetedTweet, 'retweetCount': retweetCount , 'followers': followers})\n",
    "    rows_list.append(dict1)"
   ]
  },
  {
   "cell_type": "code",
   "execution_count": 286,
   "id": "69365117",
   "metadata": {},
   "outputs": [],
   "source": [
    "tweets = pd.DataFrame(rows_list)"
   ]
  },
  {
   "cell_type": "markdown",
   "id": "ada8598e",
   "metadata": {},
   "source": [
    "### 1 .- Get top ten most retweeted tweets by user"
   ]
  },
  {
   "cell_type": "code",
   "execution_count": 287,
   "id": "da220266",
   "metadata": {},
   "outputs": [],
   "source": [
    "top_ten_retweet_user = tweets[['author','retweetCount']].sort_values(by='retweetCount', ascending=False).head(10)"
   ]
  },
  {
   "cell_type": "code",
   "execution_count": 288,
   "id": "0fb88dcd",
   "metadata": {},
   "outputs": [
    {
     "data": {
      "text/html": [
       "<div>\n",
       "<style scoped>\n",
       "    .dataframe tbody tr th:only-of-type {\n",
       "        vertical-align: middle;\n",
       "    }\n",
       "\n",
       "    .dataframe tbody tr th {\n",
       "        vertical-align: top;\n",
       "    }\n",
       "\n",
       "    .dataframe thead th {\n",
       "        text-align: right;\n",
       "    }\n",
       "</style>\n",
       "<table border=\"1\" class=\"dataframe\">\n",
       "  <thead>\n",
       "    <tr style=\"text-align: right;\">\n",
       "      <th></th>\n",
       "      <th>author</th>\n",
       "      <th>retweetCount</th>\n",
       "    </tr>\n",
       "  </thead>\n",
       "  <tbody>\n",
       "    <tr>\n",
       "      <th>111329</th>\n",
       "      <td>RakeshTikaitBKU</td>\n",
       "      <td>7723</td>\n",
       "    </tr>\n",
       "    <tr>\n",
       "      <th>7645</th>\n",
       "      <td>dhruv_rathee</td>\n",
       "      <td>6164</td>\n",
       "    </tr>\n",
       "    <tr>\n",
       "      <th>89780</th>\n",
       "      <td>rupikaur_</td>\n",
       "      <td>4673</td>\n",
       "    </tr>\n",
       "    <tr>\n",
       "      <th>88911</th>\n",
       "      <td>amaanbali</td>\n",
       "      <td>3742</td>\n",
       "    </tr>\n",
       "    <tr>\n",
       "      <th>111556</th>\n",
       "      <td>jedijasmin_</td>\n",
       "      <td>3332</td>\n",
       "    </tr>\n",
       "    <tr>\n",
       "      <th>64492</th>\n",
       "      <td>rupikaur_</td>\n",
       "      <td>3230</td>\n",
       "    </tr>\n",
       "    <tr>\n",
       "      <th>108072</th>\n",
       "      <td>RaviSinghKA</td>\n",
       "      <td>3182</td>\n",
       "    </tr>\n",
       "    <tr>\n",
       "      <th>60721</th>\n",
       "      <td>sherryontopp</td>\n",
       "      <td>3057</td>\n",
       "    </tr>\n",
       "    <tr>\n",
       "      <th>29510</th>\n",
       "      <td>sherryontopp</td>\n",
       "      <td>3040</td>\n",
       "    </tr>\n",
       "    <tr>\n",
       "      <th>24160</th>\n",
       "      <td>sherryontopp</td>\n",
       "      <td>2622</td>\n",
       "    </tr>\n",
       "  </tbody>\n",
       "</table>\n",
       "</div>"
      ],
      "text/plain": [
       "                 author  retweetCount\n",
       "111329  RakeshTikaitBKU          7723\n",
       "7645       dhruv_rathee          6164\n",
       "89780         rupikaur_          4673\n",
       "88911         amaanbali          3742\n",
       "111556      jedijasmin_          3332\n",
       "64492         rupikaur_          3230\n",
       "108072      RaviSinghKA          3182\n",
       "60721      sherryontopp          3057\n",
       "29510      sherryontopp          3040\n",
       "24160      sherryontopp          2622"
      ]
     },
     "execution_count": 288,
     "metadata": {},
     "output_type": "execute_result"
    }
   ],
   "source": [
    "top_ten_retweet_user"
   ]
  },
  {
   "cell_type": "markdown",
   "id": "0eef3bc0",
   "metadata": {},
   "source": [
    "### 2.-  Los top 10 users en función a la cantidad de tweets que emitieron (no considerar retweets)."
   ]
  },
  {
   "cell_type": "code",
   "execution_count": 312,
   "id": "99229ab7",
   "metadata": {},
   "outputs": [
    {
     "data": {
      "text/plain": [
       "author         \n",
       "jot__b             1019\n",
       "rebelpacifist       850\n",
       "MaanDee08215437     830\n",
       "Gurpreetd86         636\n",
       "GurmVicky           597\n",
       "shells_n_petals     576\n",
       "preetysaini321      573\n",
       "ish_kayy            515\n",
       "KaurDosanjh1979     512\n",
       "DigitalKisanBot     490\n",
       "dtype: int64"
      ]
     },
     "execution_count": 312,
     "metadata": {},
     "output_type": "execute_result"
    }
   ],
   "source": [
    "top_ten_tweet_user = tweets[['author']].value_counts().head(10)\n",
    "top_ten_tweet_user"
   ]
  },
  {
   "cell_type": "code",
   "execution_count": 314,
   "id": "e5adc1ea",
   "metadata": {},
   "outputs": [
    {
     "data": {
      "text/plain": [
       "pandas.core.series.Series"
      ]
     },
     "execution_count": 314,
     "metadata": {},
     "output_type": "execute_result"
    }
   ],
   "source": [
    "type(             )"
   ]
  },
  {
   "cell_type": "code",
   "execution_count": 319,
   "id": "90b85100",
   "metadata": {},
   "outputs": [
    {
     "name": "stdout",
     "output_type": "stream",
     "text": [
      "('jot__b',) 1019\n",
      "('rebelpacifist',) 850\n",
      "('MaanDee08215437',) 830\n",
      "('Gurpreetd86',) 636\n",
      "('GurmVicky',) 597\n",
      "('shells_n_petals',) 576\n",
      "('preetysaini321',) 573\n",
      "('ish_kayy',) 515\n",
      "('KaurDosanjh1979',) 512\n",
      "('DigitalKisanBot',) 490\n"
     ]
    }
   ],
   "source": [
    "for i, row in top_ten_tweet_user.iteritems():\n",
    "  print(i, row)"
   ]
  }
 ],
 "metadata": {
  "kernelspec": {
   "display_name": "Python 3 (ipykernel)",
   "language": "python",
   "name": "python3"
  },
  "language_info": {
   "codemirror_mode": {
    "name": "ipython",
    "version": 3
   },
   "file_extension": ".py",
   "mimetype": "text/x-python",
   "name": "python",
   "nbconvert_exporter": "python",
   "pygments_lexer": "ipython3",
   "version": "3.9.7"
  }
 },
 "nbformat": 4,
 "nbformat_minor": 5
}
