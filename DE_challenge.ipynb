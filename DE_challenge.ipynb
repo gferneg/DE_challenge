{
 "cells": [
  {
   "cell_type": "markdown",
   "id": "61696357",
   "metadata": {},
   "source": [
    "## no se observa la estructura normal descrita en la documentacion de Tweeter\n",
    "- No se encuentra retweet_status \n",
    "- No se observa screen_name\n",
    "- No se observa presencia de el tag entities"
   ]
  },
  {
   "cell_type": "code",
   "execution_count": 1,
   "id": "dfb7f320",
   "metadata": {},
   "outputs": [],
   "source": [
    "import os\n",
    "import string\n",
    "import pandas as pd\n",
    "\n",
    "import json\n",
    "from collections import Counter\n",
    "import re\n",
    "from glob import glob\n",
    "from datetime import datetime\n",
    "from matplotlib import pyplot as plt\n",
    "from time import gmtime, mktime, strptime\n",
    "import warnings\n",
    "warnings.filterwarnings('ignore')"
   ]
  },
  {
   "cell_type": "code",
   "execution_count": 2,
   "id": "e55221cd",
   "metadata": {},
   "outputs": [],
   "source": [
    "# funcion que obtiene los elementos unicos a partir de una lista\n",
    "def unique(lista_in):\n",
    " \n",
    "    # inicializar la lista vacia\n",
    "    unique_list = []\n",
    "     \n",
    "    # recorrer cada elemento en la lista\n",
    "    for x in lista_in:\n",
    "        # revisa si el elemento existe en la lista unica\n",
    "        if x not in unique_list:\n",
    "            unique_list.append(x)\n",
    "    # print list\n",
    "    return unique_list"
   ]
  },
  {
   "cell_type": "markdown",
   "id": "8b0238e5",
   "metadata": {},
   "source": [
    "## Load json file"
   ]
  },
  {
   "cell_type": "code",
   "execution_count": 3,
   "id": "30018825",
   "metadata": {},
   "outputs": [],
   "source": [
    "DIR = 'C:/Users/gufernandez/Documents/tweets.json/farmers-protest-tweets-2021-2-4.json'"
   ]
  },
  {
   "cell_type": "code",
   "execution_count": 5,
   "id": "f58c58e5",
   "metadata": {},
   "outputs": [],
   "source": [
    "tweets_data = []\n",
    "\n",
    "tweets_data_path = DIR\n",
    "tweets_file = open(tweets_data_path, \"r\")"
   ]
  },
  {
   "cell_type": "markdown",
   "id": "48eb3b9c",
   "metadata": {},
   "source": [
    "### read line by line"
   ]
  },
  {
   "cell_type": "code",
   "execution_count": 6,
   "id": "03271df7",
   "metadata": {},
   "outputs": [],
   "source": [
    "for line in tweets_file:\n",
    "    try:\n",
    "        tweet = json.loads(line)\n",
    "        tweets_data.append(tweet)\n",
    "    except:\n",
    "        continue"
   ]
  },
  {
   "cell_type": "code",
   "execution_count": 7,
   "id": "14ab2045",
   "metadata": {},
   "outputs": [
    {
     "name": "stdout",
     "output_type": "stream",
     "text": [
      "117407\n"
     ]
    }
   ],
   "source": [
    "# Elimina posibles tweet sin user\n",
    "for tweet in tweets_data:\n",
    "    try:\n",
    "        user = tweet['user']\n",
    "    except:\n",
    "        tweets_data.remove(tweet)\n",
    " \n",
    "print(len(tweets_data))"
   ]
  },
  {
   "cell_type": "markdown",
   "id": "67a3418c",
   "metadata": {},
   "source": [
    "### Extraer info de importancia para la solución"
   ]
  },
  {
   "cell_type": "code",
   "execution_count": 8,
   "id": "3f118f9b",
   "metadata": {},
   "outputs": [],
   "source": [
    "rows_list = []\n",
    "for tweet in tweets_data:\n",
    "    \n",
    "    author = \"\"\n",
    "    rtauthor = \"\"\n",
    "    \n",
    "    ## Extrae la información de usuario autor y el retweet, si es un retweet\n",
    "    try:\n",
    "        \n",
    "        author = tweet['user']['username']\n",
    "        rtauthor = tweet['retweeted_status']['user']['username']\n",
    "        \n",
    "    except:\n",
    "\n",
    "        ## Si no es un retweet obtiene la información del usuario autor solamente\n",
    "        try:\n",
    "            author = tweet['user']['username']\n",
    "        except:\n",
    "            continue\n",
    "    \n",
    "    # Se extrae la data desde el tweet\n",
    "    create_date = datetime.strptime(str(tweet['user']['created'])[0:10], '%Y-%M-%d').date()\n",
    "    followers = tweet['user']['followersCount']\n",
    "    replyCount = tweet['replyCount']\n",
    "    retweetedTweet = tweet['retweetedTweet']\n",
    "    retweetCount = tweet['retweetCount']\n",
    "    \n",
    "    all_content_tweet = tweet['user']\n",
    "    \n",
    "    # fue necesario extraer los hashtag desde el content del tweet ya que no esta presente el tag de 'entities' donde se encuentra\n",
    "    # la info de los hashtag de un tweet\n",
    "    hashtags_list = re.split(r',|\\n| ', str(tweet['content']))\n",
    "    hashtags = []\n",
    "    \n",
    "    # se considerara hashtag todo aquel texto que comiece con el simbolo '#'\n",
    "    for element in hashtags_list:\n",
    "        \n",
    "        regexp = re.compile(r'^#')\n",
    "        \n",
    "        if regexp.search(element):\n",
    "            if str(element) == '[]':\n",
    "                element = ''\n",
    "            hashtags.append(str(element))\n",
    "    \n",
    "    ## Transforma la información en un diccionario para generar un dataframe nuevo\n",
    "    dict1 = {}\n",
    "    dict1.update({'author': author, 'create_date': create_date, 'replyCount': replyCount, 'hashtags':hashtags , 'retweetedTweet': retweetedTweet, 'retweetCount': retweetCount , 'followers': followers, 'tweet': all_content_tweet})\n",
    "    rows_list.append(dict1)"
   ]
  },
  {
   "cell_type": "code",
   "execution_count": 9,
   "id": "1849df77",
   "metadata": {},
   "outputs": [],
   "source": [
    "tweets = pd.DataFrame(rows_list)"
   ]
  },
  {
   "cell_type": "code",
   "execution_count": 10,
   "id": "3732f20a",
   "metadata": {},
   "outputs": [
    {
     "data": {
      "text/html": [
       "<div>\n",
       "<style scoped>\n",
       "    .dataframe tbody tr th:only-of-type {\n",
       "        vertical-align: middle;\n",
       "    }\n",
       "\n",
       "    .dataframe tbody tr th {\n",
       "        vertical-align: top;\n",
       "    }\n",
       "\n",
       "    .dataframe thead th {\n",
       "        text-align: right;\n",
       "    }\n",
       "</style>\n",
       "<table border=\"1\" class=\"dataframe\">\n",
       "  <thead>\n",
       "    <tr style=\"text-align: right;\">\n",
       "      <th></th>\n",
       "      <th>author</th>\n",
       "      <th>create_date</th>\n",
       "      <th>replyCount</th>\n",
       "      <th>hashtags</th>\n",
       "      <th>retweetedTweet</th>\n",
       "      <th>retweetCount</th>\n",
       "      <th>followers</th>\n",
       "      <th>tweet</th>\n",
       "    </tr>\n",
       "  </thead>\n",
       "  <tbody>\n",
       "    <tr>\n",
       "      <th>0</th>\n",
       "      <td>ArjunSinghPanam</td>\n",
       "      <td>2009-01-06</td>\n",
       "      <td>0</td>\n",
       "      <td>[#ModiDontSellFarmers, #FarmersProtest, #FreeN...</td>\n",
       "      <td>None</td>\n",
       "      <td>0</td>\n",
       "      <td>603</td>\n",
       "      <td>{'username': 'ArjunSinghPanam', 'displayname':...</td>\n",
       "    </tr>\n",
       "  </tbody>\n",
       "</table>\n",
       "</div>"
      ],
      "text/plain": [
       "            author create_date  replyCount  \\\n",
       "0  ArjunSinghPanam  2009-01-06           0   \n",
       "\n",
       "                                            hashtags retweetedTweet  \\\n",
       "0  [#ModiDontSellFarmers, #FarmersProtest, #FreeN...           None   \n",
       "\n",
       "   retweetCount  followers                                              tweet  \n",
       "0             0        603  {'username': 'ArjunSinghPanam', 'displayname':...  "
      ]
     },
     "execution_count": 10,
     "metadata": {},
     "output_type": "execute_result"
    }
   ],
   "source": [
    "tweets.head(1)"
   ]
  },
  {
   "cell_type": "markdown",
   "id": "6726b71c",
   "metadata": {},
   "source": [
    "### 1 .- Obtenga cuales fueron los 10 tweets más retweeted y a que usuarios pertenecen esos tweets."
   ]
  },
  {
   "cell_type": "code",
   "execution_count": 11,
   "id": "3ae04fe0",
   "metadata": {},
   "outputs": [],
   "source": [
    "top_ten_retweet_user = tweets[['author','retweetCount']].sort_values(by='retweetCount', ascending=False).head(10)"
   ]
  },
  {
   "cell_type": "code",
   "execution_count": 12,
   "id": "1452b32a",
   "metadata": {},
   "outputs": [
    {
     "data": {
      "text/html": [
       "<div>\n",
       "<style scoped>\n",
       "    .dataframe tbody tr th:only-of-type {\n",
       "        vertical-align: middle;\n",
       "    }\n",
       "\n",
       "    .dataframe tbody tr th {\n",
       "        vertical-align: top;\n",
       "    }\n",
       "\n",
       "    .dataframe thead th {\n",
       "        text-align: right;\n",
       "    }\n",
       "</style>\n",
       "<table border=\"1\" class=\"dataframe\">\n",
       "  <thead>\n",
       "    <tr style=\"text-align: right;\">\n",
       "      <th></th>\n",
       "      <th>author</th>\n",
       "      <th>retweetCount</th>\n",
       "    </tr>\n",
       "  </thead>\n",
       "  <tbody>\n",
       "    <tr>\n",
       "      <th>111329</th>\n",
       "      <td>RakeshTikaitBKU</td>\n",
       "      <td>7723</td>\n",
       "    </tr>\n",
       "    <tr>\n",
       "      <th>7645</th>\n",
       "      <td>dhruv_rathee</td>\n",
       "      <td>6164</td>\n",
       "    </tr>\n",
       "    <tr>\n",
       "      <th>89780</th>\n",
       "      <td>rupikaur_</td>\n",
       "      <td>4673</td>\n",
       "    </tr>\n",
       "    <tr>\n",
       "      <th>88911</th>\n",
       "      <td>amaanbali</td>\n",
       "      <td>3742</td>\n",
       "    </tr>\n",
       "    <tr>\n",
       "      <th>111556</th>\n",
       "      <td>jedijasmin_</td>\n",
       "      <td>3332</td>\n",
       "    </tr>\n",
       "    <tr>\n",
       "      <th>64492</th>\n",
       "      <td>rupikaur_</td>\n",
       "      <td>3230</td>\n",
       "    </tr>\n",
       "    <tr>\n",
       "      <th>108072</th>\n",
       "      <td>RaviSinghKA</td>\n",
       "      <td>3182</td>\n",
       "    </tr>\n",
       "    <tr>\n",
       "      <th>60721</th>\n",
       "      <td>sherryontopp</td>\n",
       "      <td>3057</td>\n",
       "    </tr>\n",
       "    <tr>\n",
       "      <th>29510</th>\n",
       "      <td>sherryontopp</td>\n",
       "      <td>3040</td>\n",
       "    </tr>\n",
       "    <tr>\n",
       "      <th>24160</th>\n",
       "      <td>sherryontopp</td>\n",
       "      <td>2622</td>\n",
       "    </tr>\n",
       "  </tbody>\n",
       "</table>\n",
       "</div>"
      ],
      "text/plain": [
       "                 author  retweetCount\n",
       "111329  RakeshTikaitBKU          7723\n",
       "7645       dhruv_rathee          6164\n",
       "89780         rupikaur_          4673\n",
       "88911         amaanbali          3742\n",
       "111556      jedijasmin_          3332\n",
       "64492         rupikaur_          3230\n",
       "108072      RaviSinghKA          3182\n",
       "60721      sherryontopp          3057\n",
       "29510      sherryontopp          3040\n",
       "24160      sherryontopp          2622"
      ]
     },
     "execution_count": 12,
     "metadata": {},
     "output_type": "execute_result"
    }
   ],
   "source": [
    "# Resultado esperado para objetivo_1\n",
    "top_ten_retweet_user"
   ]
  },
  {
   "cell_type": "markdown",
   "id": "d8c4d0bd",
   "metadata": {},
   "source": [
    "### 2.-  Los top 10 users en función a la cantidad de tweets que emitieron (no considerar retweets)."
   ]
  },
  {
   "cell_type": "code",
   "execution_count": 13,
   "id": "99028502",
   "metadata": {},
   "outputs": [],
   "source": [
    "top_ten_tweet_user = tweets[['author']].value_counts().head(10)"
   ]
  },
  {
   "cell_type": "code",
   "execution_count": 14,
   "id": "b89f4c99",
   "metadata": {},
   "outputs": [
    {
     "name": "stdout",
     "output_type": "stream",
     "text": [
      "('jot__b',) 1019\n",
      "('rebelpacifist',) 850\n",
      "('MaanDee08215437',) 830\n",
      "('Gurpreetd86',) 636\n",
      "('GurmVicky',) 597\n",
      "('shells_n_petals',) 576\n",
      "('preetysaini321',) 573\n",
      "('ish_kayy',) 515\n",
      "('KaurDosanjh1979',) 512\n",
      "('DigitalKisanBot',) 490\n"
     ]
    }
   ],
   "source": [
    "for i, row in top_ten_tweet_user.iteritems():\n",
    "  print(str(i), row)"
   ]
  },
  {
   "cell_type": "markdown",
   "id": "d3f77745",
   "metadata": {},
   "source": [
    "## 3.- Obtenga los 10 días donde hay más tweets, muestre el día, la cantidad de tweets y todos los hastags que se usaron ese día"
   ]
  },
  {
   "cell_type": "code",
   "execution_count": 15,
   "id": "0f0813ed",
   "metadata": {},
   "outputs": [],
   "source": [
    "top_ten_tweet_by_day = tweets['create_date'].value_counts().head(10)"
   ]
  },
  {
   "cell_type": "code",
   "execution_count": 16,
   "id": "9b6e6f2b",
   "metadata": {},
   "outputs": [],
   "source": [
    "# Extraigo el listado de dias que presentan la mayor cantidad de tweets\n",
    "list_days = top_ten_tweet_by_day"
   ]
  },
  {
   "cell_type": "code",
   "execution_count": 18,
   "id": "768cebe9",
   "metadata": {},
   "outputs": [],
   "source": [
    "list_hashtag = []\n",
    "top_ten_tweets_by_day = []\n",
    "hashtag_values = []\n",
    "\n",
    "# loop sobre los 10 dias con mas tweets\n",
    "for index, value in list_days.items():\n",
    "\n",
    "    # obtengo los hashtags utilizados en el día especificado en el loop\n",
    "    hashtags_on_date = tweets['hashtags'][(tweets['create_date']==index)]\n",
    "    \n",
    "    for hashtag_list_on_date in hashtags_on_date:\n",
    "        hashtag_values += (hashtag_list_on_date)   \n",
    "             \n",
    "    final_list_hashtag = unique(hashtag_values)        \n",
    "            \n",
    "    top_ten_tweets_by_day.append([index, value,final_list_hashtag])\n"
   ]
  },
  {
   "cell_type": "markdown",
   "id": "4f751153",
   "metadata": {},
   "source": [
    "## 4.- Los top 10 hashtags más usados."
   ]
  },
  {
   "cell_type": "code",
   "execution_count": 20,
   "id": "74ad61fd",
   "metadata": {},
   "outputs": [],
   "source": [
    "hashtags = tweets['hashtags']\n",
    "hashtag_words = []\n",
    "\n",
    "for hashtag_list in hashtags:\n",
    "    hashtag_words += (hashtag_list_on_date)   \n",
    "\n",
    "# genero la lista del top 10 de hashtags mas usados\n",
    "c = Counter(hashtag_values)"
   ]
  },
  {
   "cell_type": "code",
   "execution_count": 21,
   "id": "69a5b0ee",
   "metadata": {},
   "outputs": [
    {
     "name": "stdout",
     "output_type": "stream",
     "text": [
      " [('#FarmersProtest', 27863), ('#ReleaseDetainedFarmers', 1858), ('#MahapanchayatRevolution', 1560), ('#FarmersMakeIndia', 1472), ('#RepealOnlyWayAhead', 1465), ('#Pagdi_Sambhal_Jatta', 1083), ('#IndiaBeingSilenced', 1052), ('#शहीद_जवान_शहीद_किसान', 844), ('#farmersprotest', 824), ('#StandWithFarmers', 813)]\n"
     ]
    }
   ],
   "source": [
    "print (\"\",c.most_common(10))    "
   ]
  },
  {
   "cell_type": "markdown",
   "id": "cd89bb56",
   "metadata": {},
   "source": [
    "## 5.- Los top 10 users más influyentes en función de lo retweeted de sus tweets."
   ]
  },
  {
   "cell_type": "code",
   "execution_count": 22,
   "id": "83aa3335",
   "metadata": {},
   "outputs": [
    {
     "data": {
      "text/html": [
       "<div>\n",
       "<style scoped>\n",
       "    .dataframe tbody tr th:only-of-type {\n",
       "        vertical-align: middle;\n",
       "    }\n",
       "\n",
       "    .dataframe tbody tr th {\n",
       "        vertical-align: top;\n",
       "    }\n",
       "\n",
       "    .dataframe thead th {\n",
       "        text-align: right;\n",
       "    }\n",
       "</style>\n",
       "<table border=\"1\" class=\"dataframe\">\n",
       "  <thead>\n",
       "    <tr style=\"text-align: right;\">\n",
       "      <th></th>\n",
       "      <th>author</th>\n",
       "      <th>create_date</th>\n",
       "      <th>replyCount</th>\n",
       "      <th>hashtags</th>\n",
       "      <th>retweetedTweet</th>\n",
       "      <th>retweetCount</th>\n",
       "      <th>followers</th>\n",
       "      <th>tweet</th>\n",
       "    </tr>\n",
       "  </thead>\n",
       "  <tbody>\n",
       "    <tr>\n",
       "      <th>0</th>\n",
       "      <td>ArjunSinghPanam</td>\n",
       "      <td>2009-01-06</td>\n",
       "      <td>0</td>\n",
       "      <td>[#ModiDontSellFarmers, #FarmersProtest, #FreeN...</td>\n",
       "      <td>None</td>\n",
       "      <td>0</td>\n",
       "      <td>603</td>\n",
       "      <td>{'username': 'ArjunSinghPanam', 'displayname':...</td>\n",
       "    </tr>\n",
       "    <tr>\n",
       "      <th>1</th>\n",
       "      <td>PrdeepNain</td>\n",
       "      <td>2021-01-29</td>\n",
       "      <td>0</td>\n",
       "      <td>[#FarmersProtest, #ModiIgnoringFarmersDeaths, ...</td>\n",
       "      <td>None</td>\n",
       "      <td>0</td>\n",
       "      <td>14</td>\n",
       "      <td>{'username': 'PrdeepNain', 'displayname': 'Pra...</td>\n",
       "    </tr>\n",
       "    <tr>\n",
       "      <th>2</th>\n",
       "      <td>parmarmaninder</td>\n",
       "      <td>2012-01-27</td>\n",
       "      <td>0</td>\n",
       "      <td>[#FarmersProtest]</td>\n",
       "      <td>None</td>\n",
       "      <td>0</td>\n",
       "      <td>72</td>\n",
       "      <td>{'username': 'parmarmaninder', 'displayname': ...</td>\n",
       "    </tr>\n",
       "    <tr>\n",
       "      <th>3</th>\n",
       "      <td>anmoldhaliwal</td>\n",
       "      <td>2010-01-28</td>\n",
       "      <td>0</td>\n",
       "      <td>[#farmersprotest, #NoFarmersNoFood]</td>\n",
       "      <td>None</td>\n",
       "      <td>0</td>\n",
       "      <td>51</td>\n",
       "      <td>{'username': 'anmoldhaliwal', 'displayname': '...</td>\n",
       "    </tr>\n",
       "    <tr>\n",
       "      <th>4</th>\n",
       "      <td>KotiaPreet</td>\n",
       "      <td>2021-01-08</td>\n",
       "      <td>0</td>\n",
       "      <td>[#KisanEktaMorcha, #FarmersProtest, #NoFarmers...</td>\n",
       "      <td>None</td>\n",
       "      <td>0</td>\n",
       "      <td>5</td>\n",
       "      <td>{'username': 'KotiaPreet', 'displayname': 'Pre...</td>\n",
       "    </tr>\n",
       "  </tbody>\n",
       "</table>\n",
       "</div>"
      ],
      "text/plain": [
       "            author create_date  replyCount  \\\n",
       "0  ArjunSinghPanam  2009-01-06           0   \n",
       "1       PrdeepNain  2021-01-29           0   \n",
       "2   parmarmaninder  2012-01-27           0   \n",
       "3    anmoldhaliwal  2010-01-28           0   \n",
       "4       KotiaPreet  2021-01-08           0   \n",
       "\n",
       "                                            hashtags retweetedTweet  \\\n",
       "0  [#ModiDontSellFarmers, #FarmersProtest, #FreeN...           None   \n",
       "1  [#FarmersProtest, #ModiIgnoringFarmersDeaths, ...           None   \n",
       "2                                  [#FarmersProtest]           None   \n",
       "3                [#farmersprotest, #NoFarmersNoFood]           None   \n",
       "4  [#KisanEktaMorcha, #FarmersProtest, #NoFarmers...           None   \n",
       "\n",
       "   retweetCount  followers                                              tweet  \n",
       "0             0        603  {'username': 'ArjunSinghPanam', 'displayname':...  \n",
       "1             0         14  {'username': 'PrdeepNain', 'displayname': 'Pra...  \n",
       "2             0         72  {'username': 'parmarmaninder', 'displayname': ...  \n",
       "3             0         51  {'username': 'anmoldhaliwal', 'displayname': '...  \n",
       "4             0          5  {'username': 'KotiaPreet', 'displayname': 'Pre...  "
      ]
     },
     "execution_count": 22,
     "metadata": {},
     "output_type": "execute_result"
    }
   ],
   "source": [
    "tweets.head()"
   ]
  },
  {
   "cell_type": "code",
   "execution_count": 23,
   "id": "73dfd934",
   "metadata": {},
   "outputs": [],
   "source": [
    "# Obtengo como dataframe el listado de 10 usuarios mas influyentes\n",
    "sumOfretweetCount = tweets.groupby(by=['author'], as_index=False)['retweetCount'].sum().sort_values(by=['retweetCount'], ascending=False).head(10)"
   ]
  },
  {
   "cell_type": "code",
   "execution_count": 24,
   "id": "f91fc4ed",
   "metadata": {},
   "outputs": [
    {
     "data": {
      "text/html": [
       "<div>\n",
       "<style scoped>\n",
       "    .dataframe tbody tr th:only-of-type {\n",
       "        vertical-align: middle;\n",
       "    }\n",
       "\n",
       "    .dataframe tbody tr th {\n",
       "        vertical-align: top;\n",
       "    }\n",
       "\n",
       "    .dataframe thead th {\n",
       "        text-align: right;\n",
       "    }\n",
       "</style>\n",
       "<table border=\"1\" class=\"dataframe\">\n",
       "  <thead>\n",
       "    <tr style=\"text-align: right;\">\n",
       "      <th></th>\n",
       "      <th>author</th>\n",
       "      <th>retweetCount</th>\n",
       "    </tr>\n",
       "  </thead>\n",
       "  <tbody>\n",
       "    <tr>\n",
       "      <th>16605</th>\n",
       "      <td>amaanbali</td>\n",
       "      <td>26354</td>\n",
       "    </tr>\n",
       "    <tr>\n",
       "      <th>24073</th>\n",
       "      <td>saahilmenghani</td>\n",
       "      <td>23288</td>\n",
       "    </tr>\n",
       "    <tr>\n",
       "      <th>12164</th>\n",
       "      <td>RaviSinghKA</td>\n",
       "      <td>22974</td>\n",
       "    </tr>\n",
       "    <tr>\n",
       "      <th>24724</th>\n",
       "      <td>sherryontopp</td>\n",
       "      <td>19175</td>\n",
       "    </tr>\n",
       "    <tr>\n",
       "      <th>11837</th>\n",
       "      <td>RakeshTikaitBKU</td>\n",
       "      <td>12001</td>\n",
       "    </tr>\n",
       "    <tr>\n",
       "      <th>24034</th>\n",
       "      <td>rupikaur_</td>\n",
       "      <td>11420</td>\n",
       "    </tr>\n",
       "    <tr>\n",
       "      <th>22538</th>\n",
       "      <td>news24tvchannel</td>\n",
       "      <td>10960</td>\n",
       "    </tr>\n",
       "    <tr>\n",
       "      <th>19566</th>\n",
       "      <td>iMani_KaurRai</td>\n",
       "      <td>10636</td>\n",
       "    </tr>\n",
       "    <tr>\n",
       "      <th>9532</th>\n",
       "      <td>Monica_Gill1</td>\n",
       "      <td>8593</td>\n",
       "    </tr>\n",
       "    <tr>\n",
       "      <th>17502</th>\n",
       "      <td>bhupenderc19</td>\n",
       "      <td>7360</td>\n",
       "    </tr>\n",
       "  </tbody>\n",
       "</table>\n",
       "</div>"
      ],
      "text/plain": [
       "                author  retweetCount\n",
       "16605        amaanbali         26354\n",
       "24073   saahilmenghani         23288\n",
       "12164      RaviSinghKA         22974\n",
       "24724     sherryontopp         19175\n",
       "11837  RakeshTikaitBKU         12001\n",
       "24034        rupikaur_         11420\n",
       "22538  news24tvchannel         10960\n",
       "19566    iMani_KaurRai         10636\n",
       "9532      Monica_Gill1          8593\n",
       "17502     bhupenderc19          7360"
      ]
     },
     "execution_count": 24,
     "metadata": {},
     "output_type": "execute_result"
    }
   ],
   "source": [
    "sumOfretweetCount"
   ]
  },
  {
   "cell_type": "markdown",
   "id": "d271100b",
   "metadata": {},
   "source": [
    "## 6.- Guarde en un archivo avro todos los tweets para el hashtag #ReleaseDetainedFarmers entre el 2021-02-12 y 2021-02-24"
   ]
  },
  {
   "cell_type": "code",
   "execution_count": 52,
   "id": "4af19af3",
   "metadata": {},
   "outputs": [
    {
     "name": "stdout",
     "output_type": "stream",
     "text": [
      "Requirement already satisfied: avro in c:\\users\\gufernandez\\anaconda3\\lib\\site-packages (1.11.0)\n",
      "Requirement already satisfied: rec-avro in c:\\users\\gufernandez\\anaconda3\\lib\\site-packages (0.0.4)\n",
      "Requirement already satisfied: fastavro in c:\\users\\gufernandez\\anaconda3\\lib\\site-packages (1.4.10)\n"
     ]
    }
   ],
   "source": [
    "## Paquetes requeridos\n",
    "!pip install avro\n",
    "!pip3 install rec-avro\n",
    "!pip install fastavro"
   ]
  },
  {
   "cell_type": "code",
   "execution_count": 53,
   "id": "07f8435a",
   "metadata": {},
   "outputs": [],
   "source": [
    "from fastavro import writer, reader, schema\n",
    "from rec_avro import to_rec_avro_destructive, from_rec_avro_destructive, rec_avro_schema\n",
    "#avro.schema.parse(str(tweets['tweet'][0]))"
   ]
  },
  {
   "cell_type": "code",
   "execution_count": 54,
   "id": "4bc36619",
   "metadata": {},
   "outputs": [],
   "source": [
    "## Convierte jsonobj a avro_file\n",
    "def turntoavro(data):\n",
    "    avro_objects = [to_rec_avro_destructive(data)]\n",
    "    with open('json_in_avro.avro', 'a+b') as f_out:\n",
    "        writer(f_out, schema.parse_schema(rec_avro_schema()), avro_objects)"
   ]
  },
  {
   "cell_type": "code",
   "execution_count": 55,
   "id": "151ea348",
   "metadata": {},
   "outputs": [],
   "source": [
    "# Obtengo el subser de tweets que se encuentran entre el '2021-02-12' y '2021-02-24'\n",
    "#### NO EXISTEN TWEETS EN EL INTERVALO INDICADO\n",
    "\n",
    "subset_tweets_on_dates = tweets['tweet'][(pd.to_datetime(tweets['create_date'])>='2021-02-12') & (pd.to_datetime(tweets['create_date'])<='2021-02-24')]"
   ]
  },
  {
   "cell_type": "code",
   "execution_count": 56,
   "id": "073c5624",
   "metadata": {},
   "outputs": [
    {
     "name": "stdout",
     "output_type": "stream",
     "text": [
      "No existen tweets en el intervalo indicado\n",
      "\n"
     ]
    }
   ],
   "source": [
    "try:\n",
    "    for raw_tweet in subset_tweets_on_dates['tweet']:\n",
    "        turntoavro(raw_tweet)\n",
    "except:\n",
    "    print(\"No existen tweets en el intervalo indicado\\n\")"
   ]
  },
  {
   "cell_type": "code",
   "execution_count": null,
   "id": "9977a27d",
   "metadata": {},
   "outputs": [],
   "source": []
  }
 ],
 "metadata": {
  "kernelspec": {
   "display_name": "Python 3 (ipykernel)",
   "language": "python",
   "name": "python3"
  },
  "language_info": {
   "codemirror_mode": {
    "name": "ipython",
    "version": 3
   },
   "file_extension": ".py",
   "mimetype": "text/x-python",
   "name": "python",
   "nbconvert_exporter": "python",
   "pygments_lexer": "ipython3",
   "version": "3.9.7"
  }
 },
 "nbformat": 4,
 "nbformat_minor": 5
}
